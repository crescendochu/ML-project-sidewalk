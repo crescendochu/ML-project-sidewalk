{
 "cells": [
  {
   "cell_type": "code",
   "execution_count": 119,
   "id": "21df12fb",
   "metadata": {},
   "outputs": [],
   "source": [
    "import pandas as pd\n",
    "import snorkel\n",
    "import matplotlib.pyplot as plt\n",
    "from snorkel.labeling import labeling_function\n",
    "from snorkel.labeling import LFAnalysis\n",
    "from snorkel.labeling.model import MajorityLabelVoter\n",
    "from snorkel.labeling import PandasLFApplier\n",
    "from snorkel.labeling.model import LabelModel\n",
    "import seaborn as sns"
   ]
  },
  {
   "cell_type": "code",
   "execution_count": 359,
   "id": "87b3bf4e",
   "metadata": {},
   "outputs": [
    {
     "data": {
      "text/html": [
       "<div>\n",
       "<style scoped>\n",
       "    .dataframe tbody tr th:only-of-type {\n",
       "        vertical-align: middle;\n",
       "    }\n",
       "\n",
       "    .dataframe tbody tr th {\n",
       "        vertical-align: top;\n",
       "    }\n",
       "\n",
       "    .dataframe thead th {\n",
       "        text-align: right;\n",
       "    }\n",
       "</style>\n",
       "<table border=\"1\" class=\"dataframe\">\n",
       "  <thead>\n",
       "    <tr style=\"text-align: right;\">\n",
       "      <th></th>\n",
       "      <th>audit_task_id</th>\n",
       "      <th>label_id</th>\n",
       "      <th>gsv_panorama_id_x</th>\n",
       "      <th>label_type</th>\n",
       "      <th>severity</th>\n",
       "      <th>correct</th>\n",
       "      <th>high_quality_user</th>\n",
       "      <th>geometry</th>\n",
       "      <th>gsv_panorama_id_y</th>\n",
       "      <th>zoom</th>\n",
       "      <th>...</th>\n",
       "      <th>user_id</th>\n",
       "      <th>lat</th>\n",
       "      <th>lng</th>\n",
       "      <th>cluster_id</th>\n",
       "      <th>count</th>\n",
       "      <th>false_positive</th>\n",
       "      <th>distance</th>\n",
       "      <th>tag_list</th>\n",
       "      <th>description</th>\n",
       "      <th>tag_count</th>\n",
       "    </tr>\n",
       "  </thead>\n",
       "  <tbody>\n",
       "    <tr>\n",
       "      <th>0</th>\n",
       "      <td>8</td>\n",
       "      <td>59</td>\n",
       "      <td>7l-j4D7uhfKRQPpYXIU59w</td>\n",
       "      <td>Obstacle</td>\n",
       "      <td>2.0</td>\n",
       "      <td>True</td>\n",
       "      <td>True</td>\n",
       "      <td>POINT (-74.03707122802734 40.94615936279297)</td>\n",
       "      <td>7l-j4D7uhfKRQPpYXIU59w</td>\n",
       "      <td>3</td>\n",
       "      <td>...</td>\n",
       "      <td>503d2482-420f-454e-8118-aac2d22592aa</td>\n",
       "      <td>40.946159</td>\n",
       "      <td>-74.037071</td>\n",
       "      <td>115</td>\n",
       "      <td>8</td>\n",
       "      <td>0</td>\n",
       "      <td>10.614774</td>\n",
       "      <td>1.0</td>\n",
       "      <td>0.0</td>\n",
       "      <td>1.0</td>\n",
       "    </tr>\n",
       "    <tr>\n",
       "      <th>1</th>\n",
       "      <td>18</td>\n",
       "      <td>137</td>\n",
       "      <td>adXdsY189n44f0_ae5Hptg</td>\n",
       "      <td>NoCurbRamp</td>\n",
       "      <td>5.0</td>\n",
       "      <td>False</td>\n",
       "      <td>True</td>\n",
       "      <td>POINT (-74.03673553466797 40.96704864501953)</td>\n",
       "      <td>adXdsY189n44f0_ae5Hptg</td>\n",
       "      <td>1</td>\n",
       "      <td>...</td>\n",
       "      <td>e86fdc72-c79d-4cdc-b5b2-8ef4859141d2</td>\n",
       "      <td>40.967049</td>\n",
       "      <td>-74.036736</td>\n",
       "      <td>403</td>\n",
       "      <td>6</td>\n",
       "      <td>0</td>\n",
       "      <td>1.638389</td>\n",
       "      <td>1.0</td>\n",
       "      <td>0.0</td>\n",
       "      <td>1.0</td>\n",
       "    </tr>\n",
       "    <tr>\n",
       "      <th>2</th>\n",
       "      <td>18</td>\n",
       "      <td>139</td>\n",
       "      <td>adXdsY189n44f0_ae5Hptg</td>\n",
       "      <td>SurfaceProblem</td>\n",
       "      <td>1.0</td>\n",
       "      <td>True</td>\n",
       "      <td>True</td>\n",
       "      <td>POINT (-74.03650665283203 40.96693420410156)</td>\n",
       "      <td>adXdsY189n44f0_ae5Hptg</td>\n",
       "      <td>2</td>\n",
       "      <td>...</td>\n",
       "      <td>e86fdc72-c79d-4cdc-b5b2-8ef4859141d2</td>\n",
       "      <td>40.966934</td>\n",
       "      <td>-74.036507</td>\n",
       "      <td>162</td>\n",
       "      <td>10</td>\n",
       "      <td>0</td>\n",
       "      <td>21.534606</td>\n",
       "      <td>1.0</td>\n",
       "      <td>0.0</td>\n",
       "      <td>2.0</td>\n",
       "    </tr>\n",
       "    <tr>\n",
       "      <th>3</th>\n",
       "      <td>18</td>\n",
       "      <td>142</td>\n",
       "      <td>adXdsY189n44f0_ae5Hptg</td>\n",
       "      <td>SurfaceProblem</td>\n",
       "      <td>1.0</td>\n",
       "      <td>True</td>\n",
       "      <td>True</td>\n",
       "      <td>POINT (-74.03662109375 40.96712112426758)</td>\n",
       "      <td>adXdsY189n44f0_ae5Hptg</td>\n",
       "      <td>2</td>\n",
       "      <td>...</td>\n",
       "      <td>e86fdc72-c79d-4cdc-b5b2-8ef4859141d2</td>\n",
       "      <td>40.967121</td>\n",
       "      <td>-74.036621</td>\n",
       "      <td>2233</td>\n",
       "      <td>4</td>\n",
       "      <td>0</td>\n",
       "      <td>34.130406</td>\n",
       "      <td>1.0</td>\n",
       "      <td>0.0</td>\n",
       "      <td>2.0</td>\n",
       "    </tr>\n",
       "    <tr>\n",
       "      <th>4</th>\n",
       "      <td>19</td>\n",
       "      <td>167</td>\n",
       "      <td>QnbhyLuq-5js6HTPvM7sKw</td>\n",
       "      <td>NoSidewalk</td>\n",
       "      <td>NaN</td>\n",
       "      <td>True</td>\n",
       "      <td>True</td>\n",
       "      <td>POINT (-74.03386688232422 40.96540451049805)</td>\n",
       "      <td>QnbhyLuq-5js6HTPvM7sKw</td>\n",
       "      <td>1</td>\n",
       "      <td>...</td>\n",
       "      <td>e86fdc72-c79d-4cdc-b5b2-8ef4859141d2</td>\n",
       "      <td>40.965405</td>\n",
       "      <td>-74.033867</td>\n",
       "      <td>2886</td>\n",
       "      <td>2</td>\n",
       "      <td>0</td>\n",
       "      <td>6.722622</td>\n",
       "      <td>0.0</td>\n",
       "      <td>0.0</td>\n",
       "      <td>0.0</td>\n",
       "    </tr>\n",
       "  </tbody>\n",
       "</table>\n",
       "<p>5 rows × 24 columns</p>\n",
       "</div>"
      ],
      "text/plain": [
       "   audit_task_id  label_id       gsv_panorama_id_x      label_type  severity  \\\n",
       "0              8        59  7l-j4D7uhfKRQPpYXIU59w        Obstacle       2.0   \n",
       "1             18       137  adXdsY189n44f0_ae5Hptg      NoCurbRamp       5.0   \n",
       "2             18       139  adXdsY189n44f0_ae5Hptg  SurfaceProblem       1.0   \n",
       "3             18       142  adXdsY189n44f0_ae5Hptg  SurfaceProblem       1.0   \n",
       "4             19       167  QnbhyLuq-5js6HTPvM7sKw      NoSidewalk       NaN   \n",
       "\n",
       "  correct  high_quality_user                                      geometry  \\\n",
       "0    True               True  POINT (-74.03707122802734 40.94615936279297)   \n",
       "1   False               True  POINT (-74.03673553466797 40.96704864501953)   \n",
       "2    True               True  POINT (-74.03650665283203 40.96693420410156)   \n",
       "3    True               True     POINT (-74.03662109375 40.96712112426758)   \n",
       "4    True               True  POINT (-74.03386688232422 40.96540451049805)   \n",
       "\n",
       "        gsv_panorama_id_y  zoom  ...                               user_id  \\\n",
       "0  7l-j4D7uhfKRQPpYXIU59w     3  ...  503d2482-420f-454e-8118-aac2d22592aa   \n",
       "1  adXdsY189n44f0_ae5Hptg     1  ...  e86fdc72-c79d-4cdc-b5b2-8ef4859141d2   \n",
       "2  adXdsY189n44f0_ae5Hptg     2  ...  e86fdc72-c79d-4cdc-b5b2-8ef4859141d2   \n",
       "3  adXdsY189n44f0_ae5Hptg     2  ...  e86fdc72-c79d-4cdc-b5b2-8ef4859141d2   \n",
       "4  QnbhyLuq-5js6HTPvM7sKw     1  ...  e86fdc72-c79d-4cdc-b5b2-8ef4859141d2   \n",
       "\n",
       "         lat        lng  cluster_id count  false_positive   distance  \\\n",
       "0  40.946159 -74.037071         115     8               0  10.614774   \n",
       "1  40.967049 -74.036736         403     6               0   1.638389   \n",
       "2  40.966934 -74.036507         162    10               0  21.534606   \n",
       "3  40.967121 -74.036621        2233     4               0  34.130406   \n",
       "4  40.965405 -74.033867        2886     2               0   6.722622   \n",
       "\n",
       "   tag_list  description  tag_count  \n",
       "0       1.0          0.0        1.0  \n",
       "1       1.0          0.0        1.0  \n",
       "2       1.0          0.0        2.0  \n",
       "3       1.0          0.0        2.0  \n",
       "4       0.0          0.0        0.0  \n",
       "\n",
       "[5 rows x 24 columns]"
      ]
     },
     "execution_count": 359,
     "metadata": {},
     "output_type": "execute_result"
    }
   ],
   "source": [
    "# read in the training data\n",
    "df_train = pd.read_csv(\"data/processed-labels/training_set_oradell.csv\")\n",
    "df_train.head()"
   ]
  },
  {
   "cell_type": "code",
   "execution_count": 360,
   "id": "982850af",
   "metadata": {},
   "outputs": [],
   "source": [
    "#select only label_type = curb ramp\n",
    "# df_train = df_train[df_train['label_type'] == 'Crosswalk']"
   ]
  },
  {
   "cell_type": "code",
   "execution_count": 361,
   "id": "9cf71926",
   "metadata": {},
   "outputs": [],
   "source": [
    "# read in gt.csv file\n",
    "df_test = pd.read_csv('data/processed-labels/test_set_oradell.csv')\n",
    "#select only label_type = curb ramp\n",
    "# df_test = df_test[df_test['label_type'] == 'Crosswalk']\n",
    "Y_test = df_test.verified.values"
   ]
  },
  {
   "cell_type": "code",
   "execution_count": 362,
   "id": "eeb2c1ef",
   "metadata": {},
   "outputs": [
    {
     "data": {
      "text/plain": [
       "<AxesSubplot:>"
      ]
     },
     "execution_count": 362,
     "metadata": {},
     "output_type": "execute_result"
    },
    {
     "data": {
      "image/png": "[encoded data removed]",
      "text/plain": [
       "<Figure size 432x288 with 1 Axes>"
      ]
     },
     "metadata": {
      "needs_background": "light"
     },
     "output_type": "display_data"
    }
   ],
   "source": [
    "#plot cluster count for df train\n",
    "df_train['count'].hist()"
   ]
  },
  {
   "cell_type": "markdown",
   "id": "fa5ea9a8",
   "metadata": {},
   "source": [
    "## Labeling functions based on heuristics"
   ]
  },
  {
   "cell_type": "code",
   "execution_count": 363,
   "id": "2bf56423",
   "metadata": {},
   "outputs": [],
   "source": [
    "# Define the label mappings for convenience\n",
    "NOT_SURE = -1\n",
    "WRONG = 0\n",
    "CORRECT = 1"
   ]
  },
  {
   "cell_type": "markdown",
   "id": "d588a712",
   "metadata": {},
   "source": [
    "### intersection"
   ]
  },
  {
   "cell_type": "code",
   "execution_count": 364,
   "id": "2724f6de",
   "metadata": {},
   "outputs": [],
   "source": [
    "#check if it is in the curb false positive list\n",
    "@labeling_function()\n",
    "def intersection(x):\n",
    "    # x in this case is a row of the dataframe\n",
    "    return WRONG if x[\"false_positive\"] == 1 else NOT_SURE"
   ]
  },
  {
   "attachments": {},
   "cell_type": "markdown",
   "id": "60bf2f9e",
   "metadata": {},
   "source": [
    "### cluster"
   ]
  },
  {
   "cell_type": "code",
   "execution_count": 365,
   "id": "4bbe1b47",
   "metadata": {},
   "outputs": [],
   "source": [
    "#check if the label is in the cluster\n",
    "@labeling_function()\n",
    "def clustered(x):\n",
    "    # x in this case is a row of the dataframe\n",
    "    return CORRECT if x['count'] >= 3 else NOT_SURE"
   ]
  },
  {
   "attachments": {},
   "cell_type": "markdown",
   "id": "d38934c7",
   "metadata": {},
   "source": [
    "### severity"
   ]
  },
  {
   "cell_type": "code",
   "execution_count": 366,
   "id": "9e2b0239",
   "metadata": {},
   "outputs": [],
   "source": [
    "#check if it is a severity 4 or higher\n",
    "@labeling_function()\n",
    "def severity(x):\n",
    "    # x in this case is a row of the dataframe\n",
    "    return CORRECT if x[\"severity\"] >= 4 else NOT_SURE"
   ]
  },
  {
   "cell_type": "markdown",
   "id": "67066db2",
   "metadata": {},
   "source": [
    "### gsv"
   ]
  },
  {
   "cell_type": "code",
   "execution_count": 367,
   "id": "1ccf3c62",
   "metadata": {},
   "outputs": [],
   "source": [
    "#check if the user zoomed in\n",
    "@labeling_function()\n",
    "def zoom(x):\n",
    "    # x in this case is a row of the dataframe\n",
    "    if x[\"zoom\"] > 2:\n",
    "        return CORRECT\n",
    "    elif x[\"zoom\"] == 1:\n",
    "        return WRONG\n",
    "    else:\n",
    "        return NOT_SURE"
   ]
  },
  {
   "cell_type": "markdown",
   "id": "96c1858e",
   "metadata": {},
   "source": [
    "### optional input"
   ]
  },
  {
   "cell_type": "code",
   "execution_count": 368,
   "id": "1792a628",
   "metadata": {},
   "outputs": [],
   "source": [
    "#check if the user has put a tag\n",
    "@labeling_function()\n",
    "def tags(x):\n",
    "    # x in this case is a row of the dataframe\n",
    "    return CORRECT if x['tag_list']  == 1 else NOT_SURE"
   ]
  },
  {
   "cell_type": "code",
   "execution_count": 369,
   "id": "2e3f021f",
   "metadata": {},
   "outputs": [],
   "source": [
    "#check if the user has put a comment\n",
    "@labeling_function()\n",
    "def description(x):\n",
    "    # x in this case is a row of the dataframe\n",
    "    return CORRECT if x['description']  == 1 else NOT_SURE"
   ]
  },
  {
   "cell_type": "code",
   "execution_count": 370,
   "id": "24eb381f",
   "metadata": {},
   "outputs": [],
   "source": [
    "#check for distance to the curb\n",
    "@labeling_function()\n",
    "def distance(x):\n",
    "    # x in this case is a row of the dataframe\n",
    "    return WRONG if x['distance']  >= 35 else NOT_SURE"
   ]
  },
  {
   "cell_type": "code",
   "execution_count": 371,
   "id": "4d5c9e86",
   "metadata": {},
   "outputs": [],
   "source": [
    "# lfs = [\n",
    "#     intersection, \n",
    "#     zoom, \n",
    "#     tags, \n",
    "#     description,\n",
    "#     severity,\n",
    "#     clustered,\n",
    "#     distance\n",
    "#     ]\n",
    "\n",
    "\n",
    "lfs = [\n",
    "    intersection, \n",
    "    clustered,\n",
    "    severity,\n",
    "    zoom,\n",
    "    tags, \n",
    "    description,\n",
    "    distance\n",
    "    ]"
   ]
  },
  {
   "cell_type": "code",
   "execution_count": 372,
   "id": "8e2d8d0d",
   "metadata": {},
   "outputs": [],
   "source": [
    "applier = PandasLFApplier(lfs=lfs)"
   ]
  },
  {
   "cell_type": "code",
   "execution_count": 373,
   "id": "d4761a74",
   "metadata": {},
   "outputs": [
    {
     "name": "stderr",
     "output_type": "stream",
     "text": [
      "100%|██████████| 7991/7991 [00:00<00:00, 39087.42it/s]\n",
      "100%|██████████| 4143/4143 [00:00<00:00, 38718.90it/s]\n"
     ]
    }
   ],
   "source": [
    "L_train = applier.apply(df=df_train)\n",
    "L_test = applier.apply(df=df_test)"
   ]
  },
  {
   "cell_type": "code",
   "execution_count": 374,
   "id": "380ec15a",
   "metadata": {},
   "outputs": [
    {
     "data": {
      "text/html": [
       "<div>\n",
       "<style scoped>\n",
       "    .dataframe tbody tr th:only-of-type {\n",
       "        vertical-align: middle;\n",
       "    }\n",
       "\n",
       "    .dataframe tbody tr th {\n",
       "        vertical-align: top;\n",
       "    }\n",
       "\n",
       "    .dataframe thead th {\n",
       "        text-align: right;\n",
       "    }\n",
       "</style>\n",
       "<table border=\"1\" class=\"dataframe\">\n",
       "  <thead>\n",
       "    <tr style=\"text-align: right;\">\n",
       "      <th></th>\n",
       "      <th>j</th>\n",
       "      <th>Polarity</th>\n",
       "      <th>Coverage</th>\n",
       "      <th>Overlaps</th>\n",
       "      <th>Conflicts</th>\n",
       "    </tr>\n",
       "  </thead>\n",
       "  <tbody>\n",
       "    <tr>\n",
       "      <th>intersection</th>\n",
       "      <td>0</td>\n",
       "      <td>[0]</td>\n",
       "      <td>0.050932</td>\n",
       "      <td>0.050932</td>\n",
       "      <td>0.050932</td>\n",
       "    </tr>\n",
       "    <tr>\n",
       "      <th>clustered</th>\n",
       "      <td>1</td>\n",
       "      <td>[1]</td>\n",
       "      <td>0.699787</td>\n",
       "      <td>0.673883</td>\n",
       "      <td>0.489300</td>\n",
       "    </tr>\n",
       "    <tr>\n",
       "      <th>severity</th>\n",
       "      <td>2</td>\n",
       "      <td>[1]</td>\n",
       "      <td>0.256539</td>\n",
       "      <td>0.256413</td>\n",
       "      <td>0.203729</td>\n",
       "    </tr>\n",
       "    <tr>\n",
       "      <th>zoom</th>\n",
       "      <td>3</td>\n",
       "      <td>[0, 1]</td>\n",
       "      <td>0.793017</td>\n",
       "      <td>0.655988</td>\n",
       "      <td>0.522463</td>\n",
       "    </tr>\n",
       "    <tr>\n",
       "      <th>tags</th>\n",
       "      <td>4</td>\n",
       "      <td>[1]</td>\n",
       "      <td>0.569641</td>\n",
       "      <td>0.540358</td>\n",
       "      <td>0.323739</td>\n",
       "    </tr>\n",
       "    <tr>\n",
       "      <th>description</th>\n",
       "      <td>5</td>\n",
       "      <td>[1]</td>\n",
       "      <td>0.009886</td>\n",
       "      <td>0.009761</td>\n",
       "      <td>0.006257</td>\n",
       "    </tr>\n",
       "    <tr>\n",
       "      <th>distance</th>\n",
       "      <td>6</td>\n",
       "      <td>[0]</td>\n",
       "      <td>0.119635</td>\n",
       "      <td>0.118759</td>\n",
       "      <td>0.112251</td>\n",
       "    </tr>\n",
       "  </tbody>\n",
       "</table>\n",
       "</div>"
      ],
      "text/plain": [
       "              j Polarity  Coverage  Overlaps  Conflicts\n",
       "intersection  0      [0]  0.050932  0.050932   0.050932\n",
       "clustered     1      [1]  0.699787  0.673883   0.489300\n",
       "severity      2      [1]  0.256539  0.256413   0.203729\n",
       "zoom          3   [0, 1]  0.793017  0.655988   0.522463\n",
       "tags          4      [1]  0.569641  0.540358   0.323739\n",
       "description   5      [1]  0.009886  0.009761   0.006257\n",
       "distance      6      [0]  0.119635  0.118759   0.112251"
      ]
     },
     "execution_count": 374,
     "metadata": {},
     "output_type": "execute_result"
    }
   ],
   "source": [
    "LFAnalysis(L=L_train, lfs=lfs).lf_summary()"
   ]
  },
  {
   "cell_type": "code",
   "execution_count": 375,
   "id": "0accfd74",
   "metadata": {},
   "outputs": [],
   "source": [
    "majority_model = MajorityLabelVoter()\n",
    "preds_train = majority_model.predict(L=L_train)"
   ]
  },
  {
   "cell_type": "code",
   "execution_count": 376,
   "id": "1891e4aa",
   "metadata": {},
   "outputs": [
    {
     "name": "stderr",
     "output_type": "stream",
     "text": [
      "INFO:root:Computing O...\n",
      "INFO:root:Estimating \\mu...\n",
      "  0%|          | 0/500 [00:00<?, ?epoch/s]INFO:root:[0 epochs]: TRAIN:[loss=1.168]\n",
      "INFO:root:[100 epochs]: TRAIN:[loss=0.010]\n",
      "INFO:root:[200 epochs]: TRAIN:[loss=0.007]\n",
      "INFO:root:[300 epochs]: TRAIN:[loss=0.007]\n",
      " 66%|██████▌   | 331/500 [00:00<00:00, 3305.54epoch/s]INFO:root:[400 epochs]: TRAIN:[loss=0.007]\n",
      "100%|██████████| 500/500 [00:00<00:00, 3330.67epoch/s]\n",
      "INFO:root:Finished Training\n"
     ]
    }
   ],
   "source": [
    "label_model = LabelModel(cardinality=2, verbose=True)\n",
    "label_model.fit(L_train=L_train, n_epochs=500, log_freq=100, seed=123)"
   ]
  },
  {
   "cell_type": "code",
   "execution_count": 377,
   "id": "564cc5a4",
   "metadata": {},
   "outputs": [
    {
     "name": "stdout",
     "output_type": "stream",
     "text": [
      "Majority Vote Accuracy:   77.2%\n",
      "Label Model Accuracy:     70.2%\n"
     ]
    }
   ],
   "source": [
    "majority_acc = majority_model.score(L=L_test, Y=Y_test, tie_break_policy=\"random\")[\n",
    "    \"accuracy\"\n",
    "]\n",
    "print(f\"{'Majority Vote Accuracy:':<25} {majority_acc * 100:.1f}%\")\n",
    "\n",
    "label_model_acc = label_model.score(L=L_test, Y=Y_test, tie_break_policy=\"random\")[\n",
    "    \"accuracy\"\n",
    "]\n",
    "print(f\"{'Label Model Accuracy:':<25} {label_model_acc * 100:.1f}%\")"
   ]
  }
 ],
 "metadata": {
  "kernelspec": {
   "display_name": "Python 3",
   "language": "python",
   "name": "python3"
  },
  "language_info": {
   "codemirror_mode": {
    "name": "ipython",
    "version": 3
   },
   "file_extension": ".py",
   "mimetype": "text/x-python",
   "name": "python",
   "nbconvert_exporter": "python",
   "pygments_lexer": "ipython3",
   "version": "3.6.13"
  },
  "vscode": {
   "interpreter": {
    "hash": "2d39f8da0d54976f1a341f37a2d085a085875efad184e6c8ed3d783ca1dd58ca"
   }
  }
 },
 "nbformat": 4,
 "nbformat_minor": 5
}
