{
 "cells": [
  {
   "cell_type": "code",
   "execution_count": 1,
   "metadata": {},
   "outputs": [],
   "source": [
    "import geopandas as gpd\n",
    "import pandas as pd\n",
    "from shapely.geometry import Point\n",
    "%matplotlib inline\n",
    "import seaborn as sns; sns.set_theme(color_codes=True)\n",
    "pd.set_option('display.max_columns', None)\n",
    "import matplotlib.pyplot as plt\n",
    "import numpy as np\n",
    "import matplotlib.colors\n",
    "import warnings\n",
    "warnings.filterwarnings('ignore')\n",
    "from scipy import stats\n",
    "import math"
   ]
  },
  {
   "cell_type": "code",
   "execution_count": 4,
   "metadata": {},
   "outputs": [],
   "source": [
    "city = 'seattle'"
   ]
  },
  {
   "cell_type": "code",
   "execution_count": 5,
   "metadata": {},
   "outputs": [],
   "source": [
    "#read in labels and ground truth data \n",
    "gt = pd.read_csv('../../../data/' + city + '/processed-labels/test_set_' + city + '.csv')"
   ]
  },
  {
   "cell_type": "code",
   "execution_count": 6,
   "metadata": {},
   "outputs": [],
   "source": [
    "#split correct and incorrect labels\n",
    "correct = gt[gt['verified'] == 1]\n",
    "incorrect = gt[gt['verified'] == 0]"
   ]
  },
  {
   "cell_type": "code",
   "execution_count": 7,
   "metadata": {},
   "outputs": [],
   "source": [
    "way_type_list = gt['way_type'].unique().tolist()"
   ]
  },
  {
   "cell_type": "markdown",
   "metadata": {},
   "source": [
    "## Distance to intersections"
   ]
  },
  {
   "cell_type": "code",
   "execution_count": 8,
   "metadata": {},
   "outputs": [],
   "source": [
    "#select label_type = CurbRamp and label_type = NoCurbRamp\n",
    "all_curbs_correct = correct[correct['label_type'].isin(['CurbRamp', 'NoCurbRamp'])]\n",
    "all_curbs_incorrect = incorrect[incorrect['label_type'].isin(['CurbRamp', 'NoCurbRamp'])]"
   ]
  },
  {
   "cell_type": "code",
   "execution_count": 10,
   "metadata": {},
   "outputs": [],
   "source": [
    "#select distance to intersection < 200\n",
    "all_curbs_correct = all_curbs_correct[all_curbs_correct['distance_to_intersection'] < 200]\n",
    "all_curbs_incorrect = all_curbs_incorrect[all_curbs_incorrect['distance_to_intersection'] < 200]"
   ]
  },
  {
   "cell_type": "code",
   "execution_count": 12,
   "metadata": {},
   "outputs": [],
   "source": [
    "#select only CurbRamp labels\n",
    "curb_correct = correct[correct['label_type'] == 'CurbRamp']\n",
    "curb_incorrect = incorrect[incorrect['label_type'] == 'CurbRamp']"
   ]
  },
  {
   "cell_type": "code",
   "execution_count": 14,
   "metadata": {},
   "outputs": [],
   "source": [
    "#select distance to intersection < 200\n",
    "curb_correct = curb_correct[curb_correct['distance_to_intersection'] < 200]\n",
    "curb_incorrect = curb_incorrect[curb_incorrect['distance_to_intersection'] < 200]"
   ]
  },
  {
   "cell_type": "code",
   "execution_count": 11,
   "metadata": {},
   "outputs": [],
   "source": [
    "for i in way_type_list:\n",
    "    sns.histplot(data=all_curbs_correct.loc[(all_curbs_correct['way_type']== i)], x=\"distance_to_intersection\", bins=100, kde=True, color=\"green\")\n",
    "    sns.histplot(data=all_curbs_incorrect.loc[(all_curbs_incorrect['way_type']== i)], x=\"distance_to_intersection\", bins=100, kde=True, color=\"red\")\n",
    "    plt.title('Curb and Missing Curb labels distance to ' + i + ' intersection')\n",
    "    plt.savefig('../../../figures/' + city + '/all_curbs_distance_to_' + i + '_intersection.png')\n",
    "    plt.close() "
   ]
  },
  {
   "cell_type": "code",
   "execution_count": 15,
   "metadata": {},
   "outputs": [],
   "source": [
    "for i in way_type_list:\n",
    "    sns.histplot(data=curb_correct.loc[(curb_correct['way_type']== i)], x=\"distance_to_intersection\", bins=100, kde=True, color=\"green\")\n",
    "    sns.histplot(data=curb_incorrect.loc[(curb_incorrect['way_type']== i)], x=\"distance_to_intersection\", bins=100, kde=True, color=\"red\")\n",
    "    plt.title('Curb Ramp labels distance to ' + i + ' intersection')\n",
    "    plt.savefig('../../../figures/' + city + '/curb_distance_to_' + i + '_intersection.png')\n",
    "    plt.close()"
   ]
  },
  {
   "cell_type": "markdown",
   "metadata": {},
   "source": [
    "## Distance to roads"
   ]
  },
  {
   "cell_type": "code",
   "execution_count": 9,
   "metadata": {},
   "outputs": [],
   "source": [
    "obstacles_correct = correct[correct['label_type'] == 'Obstacle']\n",
    "obstacles_incorrect = incorrect[incorrect['label_type'] == 'Obstacle']\n",
    "for i in way_type_list:\n",
    "    sns.histplot(data=obstacles_correct.loc[(obstacles_correct['way_type']== i)], x=\"distance_to_road\", bins=100, kde=True, color=\"green\")\n",
    "    sns.histplot(data=obstacles_incorrect.loc[(obstacles_incorrect['way_type']== i)], x=\"distance_to_road\", bins=100, kde=True, color=\"red\")\n",
    "    plt.title('Obstacle labels distance to ' + i )\n",
    "    plt.savefig('../../../figures/' + city + '/obstacle_distance_to_' + i + '.png')\n",
    "    plt.close() "
   ]
  },
  {
   "cell_type": "code",
   "execution_count": 10,
   "metadata": {},
   "outputs": [],
   "source": [
    "surfaceproblems_correct = correct[correct['label_type'] == 'SurfaceProblem']\n",
    "surfaceproblems_incorrect = incorrect[incorrect['label_type'] == 'SurfaceProblem']\n",
    "for i in way_type_list:\n",
    "    sns.histplot(data=surfaceproblems_correct.loc[(surfaceproblems_correct['way_type']== i)], x=\"distance_to_road\", bins=100, kde=True, color=\"green\")\n",
    "    sns.histplot(data=surfaceproblems_incorrect.loc[(surfaceproblems_incorrect['way_type']== i)], x=\"distance_to_road\", bins=100, kde=True, color=\"red\")\n",
    "    plt.title('Surface Problem labels distance to ' + i )\n",
    "    plt.savefig('../../../figures/' + city + '/surface_distance_to_' + i + '.png')\n",
    "    plt.close() "
   ]
  },
  {
   "cell_type": "markdown",
   "metadata": {},
   "source": [
    "## Clusters"
   ]
  },
  {
   "cell_type": "code",
   "execution_count": 12,
   "metadata": {},
   "outputs": [],
   "source": [
    "#put gt unique label_type values to a list\n",
    "label_types = gt['label_type'].unique().tolist()"
   ]
  },
  {
   "cell_type": "code",
   "execution_count": 13,
   "metadata": {},
   "outputs": [],
   "source": [
    "for i in label_types:\n",
    "    sns.countplot(data=gt.loc[(gt['label_type']== i)], x=\"cluster_label_count\", hue='verified')\n",
    "    plt.title('Number of labels within a cluster for ' + i )\n",
    "    plt.savefig('../../../figures/' + city + '/cluster_label_count_' + i + '.png')\n",
    "    plt.close() "
   ]
  }
 ],
 "metadata": {
  "kernelspec": {
   "display_name": "project-sidewalk",
   "language": "python",
   "name": "python3"
  },
  "language_info": {
   "codemirror_mode": {
    "name": "ipython",
    "version": 3
   },
   "file_extension": ".py",
   "mimetype": "text/x-python",
   "name": "python",
   "nbconvert_exporter": "python",
   "pygments_lexer": "ipython3",
   "version": "3.10.6"
  },
  "orig_nbformat": 4
 },
 "nbformat": 4,
 "nbformat_minor": 2
}
