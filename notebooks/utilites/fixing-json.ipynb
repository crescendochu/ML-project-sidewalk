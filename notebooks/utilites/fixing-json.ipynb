{
 "cells": [
  {
   "cell_type": "code",
   "execution_count": 1,
   "metadata": {},
   "outputs": [],
   "source": [
    "import json"
   ]
  },
  {
   "cell_type": "code",
   "execution_count": 2,
   "metadata": {},
   "outputs": [
    {
     "name": "stdout",
     "output_type": "stream",
     "text": [
      "Expecting ',' delimiter: line 1 column 3883884 (char 3883883)\n"
     ]
    }
   ],
   "source": [
    "\n",
    "# Load the corrupted JSON file\n",
    "with open('../../data/newberg/source/cvMetadata.json', 'r') as file:\n",
    "    data = file.read()\n",
    "\n",
    "# Attempt to parse the JSON data\n",
    "try:\n",
    "    parsed_data = json.loads(data)\n",
    "except json.JSONDecodeError as e:\n",
    "    # Print the error to identify the issue\n",
    "    print(e)\n",
    "    # Fix the error (assuming the error is due to a missing comma)\n",
    "    fixed_data = data[:e.pos] + ',' + data[e.pos:]\n",
    "\n",
    "# If the JSON is now correctly parsed, write it back to the file\n",
    "if 'fixed_data' in locals():\n",
    "    with open('../../data/newberg/source/fixed_cvMetadata.json', 'w') as file:\n",
    "        file.write(fixed_data)\n"
   ]
  }
 ],
 "metadata": {
  "kernelspec": {
   "display_name": "project-sidewalk",
   "language": "python",
   "name": "python3"
  },
  "language_info": {
   "codemirror_mode": {
    "name": "ipython",
    "version": 3
   },
   "file_extension": ".py",
   "mimetype": "text/x-python",
   "name": "python",
   "nbconvert_exporter": "python",
   "pygments_lexer": "ipython3",
   "version": "3.10.6"
  },
  "orig_nbformat": 4
 },
 "nbformat": 4,
 "nbformat_minor": 2
}
