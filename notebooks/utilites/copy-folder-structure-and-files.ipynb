{
 "cells": [
  {
   "cell_type": "code",
   "execution_count": 8,
   "metadata": {},
   "outputs": [],
   "source": [
    "import os\n",
    "import shutil\n",
    "\n",
    "def copy_folder_structure(source_dir, destination_dir):\n",
    "    # Loop through all the directories and files in the source directory\n",
    "    for dirpath, dirnames, filenames in os.walk(source_dir):\n",
    "        # Compute the destination path for this iteration\n",
    "        structure = os.path.join(destination_dir, dirpath[len(source_dir):])\n",
    "\n",
    "        # If this path does not exist in the destination folder, create it\n",
    "        if not os.path.isdir(structure):\n",
    "            os.mkdir(structure)\n",
    "            print(f\"Folder {structure} created.\")\n",
    "        else:\n",
    "            print(f\"Folder {structure} already exists.\")\n",
    "\n",
    "\n"
   ]
  },
  {
   "cell_type": "code",
   "execution_count": 2,
   "metadata": {},
   "outputs": [],
   "source": [
    "new_city ='newberg'\n",
    "old_city = 'chicago'"
   ]
  },
  {
   "cell_type": "code",
   "execution_count": 10,
   "metadata": {},
   "outputs": [],
   "source": [
    "existing_data_dir = f'../../data/{old_city}/'\n",
    "new_data_dir = f'../../data/{new_city}/'"
   ]
  },
  {
   "cell_type": "code",
   "execution_count": 15,
   "metadata": {},
   "outputs": [],
   "source": [
    "existing_notebook_dir = f'../../notebooks/{old_city}/'\n",
    "new_notebook_dir = f'../../notebooks/{new_city}/'"
   ]
  },
  {
   "cell_type": "code",
   "execution_count": 11,
   "metadata": {},
   "outputs": [
    {
     "name": "stdout",
     "output_type": "stream",
     "text": [
      "Folder ../../data/newberg/ already exists.\n",
      "Folder ../../data/newberg/osm already exists.\n",
      "Folder ../../data/newberg/osm/osm-roads already exists.\n",
      "Folder ../../data/newberg/osm/osm-intersections already exists.\n",
      "Folder ../../data/newberg/osm/osm-intersections/osm-intersections-cleaned already exists.\n",
      "Folder ../../data/newberg/osm/osm-intersections/intersections-with-way-type already exists.\n",
      "Folder ../../data/newberg/osm/osm-intersections/intersections-with-correct-geo already exists.\n",
      "Folder ../../data/newberg/processed-labels already exists.\n",
      "Folder ../../data/newberg/processed-labels/labels_raw_chicago already exists.\n",
      "Folder ../../data/newberg/source already exists.\n",
      "Folder ../../data/newberg/features already exists.\n",
      "Folder ../../data/newberg/features/_archive already exists.\n",
      "Folder ../../data/newberg/features/chicago_ground_truth_labels already exists.\n",
      "Folder ../../data/newberg/_archive already exists.\n",
      "Folder ../../data/newberg/_archive/chicago-osm-roads already exists.\n"
     ]
    }
   ],
   "source": [
    "copy_folder_structure(existing_data_dir, new_data_dir)"
   ]
  },
  {
   "cell_type": "code",
   "execution_count": 31,
   "metadata": {},
   "outputs": [
    {
     "name": "stdout",
     "output_type": "stream",
     "text": [
      "Folder ../../notebooks/newberg/ already exists.\n",
      "Folder ../../notebooks/newberg/analysis created.\n",
      "Folder ../../notebooks/newberg/modeling created.\n",
      "Folder ../../notebooks/newberg/preprocessing created.\n",
      "Folder ../../notebooks/newberg/preprocessing/osm-processing created.\n",
      "Folder ../../notebooks/newberg/preprocessing/_archive created.\n"
     ]
    }
   ],
   "source": [
    "copy_folder_structure(existing_notebook_dir, new_notebook_dir)"
   ]
  },
  {
   "cell_type": "code",
   "execution_count": 1,
   "metadata": {},
   "outputs": [],
   "source": [
    "def copy_files(source_directory, destination_directory):\n",
    "    # Check if destination directory exists, if not, create it\n",
    "    if not os.path.exists(destination_directory):\n",
    "        os.makedirs(destination_directory)\n",
    "\n",
    "    # Iterate over all the files in source directory\n",
    "    for filename in os.listdir(source_directory):\n",
    "        # Construct full file path\n",
    "        source = os.path.join(source_directory, filename)\n",
    "        destination = os.path.join(destination_directory, filename)\n",
    "        # Copy only files\n",
    "        if os.path.isfile(source):\n",
    "            shutil.copyfile(source, destination)\n"
   ]
  },
  {
   "cell_type": "code",
   "execution_count": 32,
   "metadata": {},
   "outputs": [],
   "source": [
    "existing_analysis_notebooks = f'../../notebooks/{old_city}/analysis'\n",
    "new_analysis_notebooks= f'../../notebooks/{new_city}/analysis'"
   ]
  },
  {
   "cell_type": "code",
   "execution_count": 34,
   "metadata": {},
   "outputs": [],
   "source": [
    "existing_preprocessing_notebooks = f'../../notebooks/{old_city}/preprocessing'\n",
    "new_preprocessing_notebooks= f'../../notebooks/{new_city}/preprocessing'"
   ]
  },
  {
   "cell_type": "code",
   "execution_count": 33,
   "metadata": {},
   "outputs": [],
   "source": [
    "copy_files(existing_notebook_files, new_notebook_files)"
   ]
  },
  {
   "cell_type": "code",
   "execution_count": 35,
   "metadata": {},
   "outputs": [],
   "source": [
    "copy_files(existing_preprocessing_notebooks, new_preprocessing_notebooks)"
   ]
  },
  {
   "cell_type": "code",
   "execution_count": 20,
   "metadata": {},
   "outputs": [],
   "source": [
    "copy_files('/Users/chuli/Documents/GitHub/ML-project-sidewalk/notebooks/chicago/analysis', '/Users/chuli/Documents/GitHub/ML-project-sidewalk/notebooks/newberg/analysis')"
   ]
  }
 ],
 "metadata": {
  "kernelspec": {
   "display_name": "project-sidewalk",
   "language": "python",
   "name": "python3"
  },
  "language_info": {
   "codemirror_mode": {
    "name": "ipython",
    "version": 3
   },
   "file_extension": ".py",
   "mimetype": "text/x-python",
   "name": "python",
   "nbconvert_exporter": "python",
   "pygments_lexer": "ipython3",
   "version": "3.10.6"
  },
  "orig_nbformat": 4
 },
 "nbformat": 4,
 "nbformat_minor": 2
}
