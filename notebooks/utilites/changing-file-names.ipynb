{
 "cells": [
  {
   "cell_type": "code",
   "execution_count": 1,
   "metadata": {},
   "outputs": [],
   "source": [
    "import os\n",
    "\n",
    "def rename_files_in_folder(folder_path,new_filename):\n",
    "    # Check if the given path is a directory\n",
    "    if not os.path.isdir(folder_path):\n",
    "        print(\"Error: The provided path is not a directory.\")\n",
    "        return\n",
    "\n",
    "    # Loop through each file in the folder\n",
    "    for filename in os.listdir(folder_path):\n",
    "        file_path = os.path.join(folder_path, filename)\n",
    "\n",
    "        # Check if it is a file (not a directory)\n",
    "        if os.path.isfile(file_path):\n",
    "            # Split the filename and extension\n",
    "            name, ext = os.path.splitext(filename)\n",
    "\n",
    "            # Modify the name as desired\n",
    "            # For example, let's add \"_new\" at the end of each file name\n",
    "            new_name = f\"{new_filename}{ext}\"\n",
    "\n",
    "            # Rename the file\n",
    "            new_file_path = os.path.join(folder_path, new_name)\n",
    "            os.rename(file_path, new_file_path)\n",
    "            print(f\"Renamed: {filename} -> {new_name}\")"
   ]
  },
  {
   "cell_type": "code",
   "execution_count": 3,
   "metadata": {},
   "outputs": [
    {
     "name": "stdout",
     "output_type": "stream",
     "text": [
      "Renamed: .seattle_labels_all.shp.icloud -> labels_raw_seattle.icloud\n",
      "Renamed: seattle_labels_all.cpg -> labels_raw_seattle.cpg\n",
      "Renamed: seattle_labels_all.shx -> labels_raw_seattle.shx\n",
      "Renamed: .seattle_labels_all.dbf.icloud -> labels_raw_seattle.icloud\n",
      "Renamed: seattle_labels_all.prj -> labels_raw_seattle.prj\n"
     ]
    }
   ],
   "source": [
    "folder_path = \"/Users/chuli/Documents/GitHub/ML-project-sidewalk/data/seattle/processed-labels/labels_raw_seattle\"\n",
    "new_filename = \"labels_raw_seattle\"\n",
    "rename_files_in_folder(folder_path,new_filename)"
   ]
  },
  {
   "cell_type": "code",
   "execution_count": 4,
   "metadata": {},
   "outputs": [
    {
     "name": "stdout",
     "output_type": "stream",
     "text": [
      "Renamed: labels_all_oradell.cpg -> labels_raw_oradell.cpg\n",
      "Renamed: labels_all_oradell.shp -> labels_raw_oradell.shp\n",
      "Renamed: labels_all_oradell.shx -> labels_raw_oradell.shx\n",
      "Renamed: labels_all_oradell.prj -> labels_raw_oradell.prj\n",
      "Renamed: .labels_all_oradell.dbf.icloud -> labels_raw_oradell.icloud\n"
     ]
    }
   ],
   "source": [
    "folder_path = \"/Users/chuli/Documents/GitHub/ML-project-sidewalk/data/oradell/processed-labels/labels_raw_oradell\"\n",
    "new_filename = \"labels_raw_oradell\"\n",
    "rename_files_in_folder(folder_path,new_filename)"
   ]
  },
  {
   "cell_type": "code",
   "execution_count": 3,
   "metadata": {},
   "outputs": [
    {
     "name": "stdout",
     "output_type": "stream",
     "text": [
      "Renamed: .DS_Store -> labels_raw_chicago\n",
      "Renamed: labels_all_chicago.cpg -> labels_raw_chicago.cpg\n",
      "Renamed: labels_all_chicago.shp -> labels_raw_chicago.shp\n",
      "Renamed: labels_all_chicago.shx -> labels_raw_chicago.shx\n",
      "Renamed: .labels_all_chicago.dbf.icloud -> labels_raw_chicago.icloud\n",
      "Renamed: labels_all_chicago.prj -> labels_raw_chicago.prj\n"
     ]
    }
   ],
   "source": [
    "folder_path = \"/Users/chuli/Documents/GitHub/ML-project-sidewalk/data/chicago/processed-labels/labels_raw_chicago\"\n",
    "new_filename = \"labels_raw_chicago\"\n",
    "rename_files_in_folder(folder_path,new_filename)"
   ]
  }
 ],
 "metadata": {
  "kernelspec": {
   "display_name": "project-sidewalk",
   "language": "python",
   "name": "python3"
  },
  "language_info": {
   "codemirror_mode": {
    "name": "ipython",
    "version": 3
   },
   "file_extension": ".py",
   "mimetype": "text/x-python",
   "name": "python",
   "nbconvert_exporter": "python",
   "pygments_lexer": "ipython3",
   "version": "3.10.6"
  },
  "orig_nbformat": 4
 },
 "nbformat": 4,
 "nbformat_minor": 2
}
