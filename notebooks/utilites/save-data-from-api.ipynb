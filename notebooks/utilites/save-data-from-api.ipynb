{
 "cells": [
  {
   "cell_type": "code",
   "execution_count": 1,
   "metadata": {},
   "outputs": [],
   "source": [
    "import requests\n",
    "import os\n",
    "import json\n"
   ]
  },
  {
   "cell_type": "code",
   "execution_count": 2,
   "metadata": {},
   "outputs": [],
   "source": [
    "city = 'newberg'"
   ]
  },
  {
   "cell_type": "code",
   "execution_count": 6,
   "metadata": {},
   "outputs": [],
   "source": [
    "#create a dic where the key is the city name and the value is the bounding box\n",
    "city_bound = {'newberg':[-122.98861694,45.28316879,-122.92491913,45.33226395],'chicago':[-88.15451813,41.55007553,-87.58644104,42.09182739]}"
   ]
  },
  {
   "cell_type": "code",
   "execution_count": 8,
   "metadata": {},
   "outputs": [
    {
     "data": {
      "text/plain": [
       "-122.98861694"
      ]
     },
     "execution_count": 8,
     "metadata": {},
     "output_type": "execute_result"
    }
   ],
   "source": [
    "city_bound[city][0]"
   ]
  },
  {
   "cell_type": "code",
   "execution_count": 3,
   "metadata": {},
   "outputs": [],
   "source": [
    "all_labels_url = \"https://sidewalk-{}.cs.washington.edu/labels/all\".format(city)"
   ]
  },
  {
   "cell_type": "code",
   "execution_count": 4,
   "metadata": {},
   "outputs": [],
   "source": [
    "cv_url =\"https://sidewalk-{}.cs.washington.edu/adminapi/labels/cvMetadata\".format(city)"
   ]
  },
  {
   "cell_type": "code",
   "execution_count": 10,
   "metadata": {},
   "outputs": [],
   "source": [
    "street_url =\"https://sidewalk-{}.cs.washington.edu/v2/access/score/streets?lat1={}&lng1={}&lat2={}&lng2={}&filetype=geojson\".format(city,city_bound[city][3],city_bound[city][0],city_bound[city][1],city_bound[city][2])"
   ]
  },
  {
   "cell_type": "code",
   "execution_count": 14,
   "metadata": {},
   "outputs": [],
   "source": [
    "file_path= \"../../data/{}/source/\".format(city)"
   ]
  },
  {
   "cell_type": "code",
   "execution_count": 13,
   "metadata": {},
   "outputs": [],
   "source": [
    "def download_data(url, directory, filename):\n",
    "    # Send a HTTP request to the URL of the data\n",
    "    response = requests.get(url)\n",
    "\n",
    "    # Check if the response is successful (status code is 200)\n",
    "    if response.status_code == 200:\n",
    "        # Get the data from the response\n",
    "        data = response.json()\n",
    "\n",
    "        # Create the directory if it does not already exist\n",
    "        os.makedirs(directory, exist_ok=True)\n",
    "\n",
    "        # Create the full path for the file to be saved\n",
    "        filepath = os.path.join(directory, filename)\n",
    "\n",
    "        # Save the data to the file\n",
    "        with open(filepath, 'w') as f:\n",
    "            json.dump(data, f)\n",
    "\n",
    "        print(\"Data has been downloaded and saved to: \", filepath)\n",
    "    else:\n",
    "        print(\"Failed to download data. Status code: \", response.status_code)"
   ]
  },
  {
   "cell_type": "code",
   "execution_count": 18,
   "metadata": {},
   "outputs": [
    {
     "name": "stdout",
     "output_type": "stream",
     "text": [
      "Data has been downloaded and saved to:  ../../data/newberg/source/all.json\n"
     ]
    }
   ],
   "source": [
    "download_data(all_labels_url, file_path, \"all.json\")"
   ]
  },
  {
   "cell_type": "code",
   "execution_count": null,
   "metadata": {},
   "outputs": [],
   "source": [
    "download_data(cv_url, file_path, \"cvMeta.json\")"
   ]
  },
  {
   "cell_type": "code",
   "execution_count": 15,
   "metadata": {},
   "outputs": [
    {
     "name": "stdout",
     "output_type": "stream",
     "text": [
      "Data has been downloaded and saved to:  ../../data/newberg/source/street.json\n"
     ]
    }
   ],
   "source": [
    "download_data(street_url, file_path, \"streets.json\")"
   ]
  }
 ],
 "metadata": {
  "kernelspec": {
   "display_name": "project-sidewalk",
   "language": "python",
   "name": "python3"
  },
  "language_info": {
   "codemirror_mode": {
    "name": "ipython",
    "version": 3
   },
   "file_extension": ".py",
   "mimetype": "text/x-python",
   "name": "python",
   "nbconvert_exporter": "python",
   "pygments_lexer": "ipython3",
   "version": "3.10.6"
  },
  "orig_nbformat": 4
 },
 "nbformat": 4,
 "nbformat_minor": 2
}
