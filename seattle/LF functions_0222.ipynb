{
 "cells": [
  {
   "cell_type": "code",
   "execution_count": 174,
   "id": "21df12fb",
   "metadata": {},
   "outputs": [],
   "source": [
    "import pandas as pd\n",
    "import snorkel\n",
    "import matplotlib.pyplot as plt\n",
    "from snorkel.labeling import labeling_function\n",
    "from snorkel.labeling import LFAnalysis\n",
    "from snorkel.labeling.model import MajorityLabelVoter\n",
    "from snorkel.labeling import PandasLFApplier\n",
    "from snorkel.labeling.model import LabelModel\n",
    "import seaborn as sns"
   ]
  },
  {
   "cell_type": "code",
   "execution_count": 485,
   "id": "87b3bf4e",
   "metadata": {},
   "outputs": [],
   "source": [
    "# read in the training data\n",
    "df_train = pd.read_csv(\"data/training_set_seattle.csv\")"
   ]
  },
  {
   "cell_type": "code",
   "execution_count": 486,
   "id": "dfdd77b7",
   "metadata": {},
   "outputs": [],
   "source": [
    "# read in the training data\n",
    "df_train = pd.read_csv(\"data/training_set_seattle.csv\")"
   ]
  },
  {
   "cell_type": "code",
   "execution_count": 487,
   "id": "9b2482b2",
   "metadata": {},
   "outputs": [
    {
     "data": {
      "text/plain": [
       "<AxesSubplot:>"
      ]
     },
     "execution_count": 487,
     "metadata": {},
     "output_type": "execute_result"
    },
    {
     "data": {
      "image/png": "[encoded data removed]",
      "text/plain": [
       "<Figure size 432x288 with 1 Axes>"
      ]
     },
     "metadata": {
      "needs_background": "light"
     },
     "output_type": "display_data"
    }
   ],
   "source": [
    "#plot count histogram\n",
    "df_train['count'].hist()"
   ]
  },
  {
   "cell_type": "code",
   "execution_count": 488,
   "id": "982850af",
   "metadata": {},
   "outputs": [],
   "source": [
    "#select only label_type = curb ramp\n",
    "df_train = df_train[df_train['label_type'] == 'CurbRamp']\n",
    "#df_train"
   ]
  },
  {
   "cell_type": "code",
   "execution_count": 518,
   "id": "9cf71926",
   "metadata": {},
   "outputs": [],
   "source": [
    "# read in gt.csv file\n",
    "df_test = pd.read_csv('data/test_set_seattle.csv')\n",
    "#select only label_type = curb ramp\n",
    "df_test = df_test[df_test['label_type'] == 'CurbRamp']\n",
    "Y_test = df_test.verified.values\n"
   ]
  },
  {
   "cell_type": "markdown",
   "id": "fa5ea9a8",
   "metadata": {},
   "source": [
    "## Labeling functions based on heuristics"
   ]
  },
  {
   "cell_type": "code",
   "execution_count": 491,
   "id": "2bf56423",
   "metadata": {},
   "outputs": [],
   "source": [
    "# Define the label mappings for convenience\n",
    "NOT_SURE = -1\n",
    "WRONG = 0\n",
    "CORRECT = 1"
   ]
  },
  {
   "cell_type": "markdown",
   "id": "d588a712",
   "metadata": {},
   "source": [
    "### intersection"
   ]
  },
  {
   "cell_type": "code",
   "execution_count": 492,
   "id": "2724f6de",
   "metadata": {},
   "outputs": [],
   "source": [
    "#check if it is in the curb false positive list\n",
    "@labeling_function()\n",
    "def intersection(x):\n",
    "    # x in this case is a row of the dataframe\n",
    "    return WRONG if x[\"false_positive\"] == 1 else NOT_SURE"
   ]
  },
  {
   "attachments": {},
   "cell_type": "markdown",
   "id": "60bf2f9e",
   "metadata": {},
   "source": [
    "### cluster"
   ]
  },
  {
   "cell_type": "code",
   "execution_count": 493,
   "id": "4bbe1b47",
   "metadata": {},
   "outputs": [],
   "source": [
    "#check if the label is in the cluster\n",
    "@labeling_function()\n",
    "def clustered(x):\n",
    "    # x in this case is a row of the dataframe\n",
    "    return CORRECT if x['count'] >= 5 else NOT_SURE"
   ]
  },
  {
   "attachments": {},
   "cell_type": "markdown",
   "id": "d38934c7",
   "metadata": {},
   "source": [
    "### severity"
   ]
  },
  {
   "cell_type": "code",
   "execution_count": 494,
   "id": "9e2b0239",
   "metadata": {},
   "outputs": [],
   "source": [
    "#check if it is a severity 4 or higher\n",
    "@labeling_function()\n",
    "def severity(x):\n",
    "    # x in this case is a row of the dataframe\n",
    "    return CORRECT if x[\"severity\"] >= 4 else NOT_SURE"
   ]
  },
  {
   "cell_type": "markdown",
   "id": "67066db2",
   "metadata": {},
   "source": [
    "### gsv"
   ]
  },
  {
   "cell_type": "code",
   "execution_count": 495,
   "id": "1ccf3c62",
   "metadata": {},
   "outputs": [],
   "source": [
    "#check if the user zoomed in\n",
    "@labeling_function()\n",
    "def zoom(x):\n",
    "    # x in this case is a row of the dataframe\n",
    "    if x[\"zoom\"] > 2:\n",
    "        return CORRECT\n",
    "    elif x[\"zoom\"] == 1:\n",
    "        return WRONG\n",
    "    else:\n",
    "        return NOT_SURE"
   ]
  },
  {
   "cell_type": "markdown",
   "id": "96c1858e",
   "metadata": {},
   "source": [
    "### optional input"
   ]
  },
  {
   "cell_type": "code",
   "execution_count": 496,
   "id": "1792a628",
   "metadata": {},
   "outputs": [],
   "source": [
    "#check if the user has put a tag\n",
    "@labeling_function()\n",
    "def tags(x):\n",
    "    # x in this case is a row of the dataframe\n",
    "    return CORRECT if x['label_tags']  == 1 else NOT_SURE"
   ]
  },
  {
   "cell_type": "code",
   "execution_count": 497,
   "id": "2e3f021f",
   "metadata": {},
   "outputs": [],
   "source": [
    "#check if the user has put a comment\n",
    "@labeling_function()\n",
    "def description(x):\n",
    "    # x in this case is a row of the dataframe\n",
    "    return CORRECT if x['label_description']  == 1 else NOT_SURE"
   ]
  },
  {
   "cell_type": "code",
   "execution_count": 498,
   "id": "24eb381f",
   "metadata": {},
   "outputs": [],
   "source": [
    "#check for distance to the curb\n",
    "@labeling_function()\n",
    "def distance(x):\n",
    "    # x in this case is a row of the dataframe\n",
    "    return WRONG if x['distance']  >= 10 else NOT_SURE"
   ]
  },
  {
   "cell_type": "code",
   "execution_count": 499,
   "id": "4d5c9e86",
   "metadata": {},
   "outputs": [],
   "source": [
    "lfs = [\n",
    "    intersection, \n",
    "    zoom, \n",
    "    tags, \n",
    "    description,\n",
    "    severity,\n",
    "    clustered,\n",
    "    distance\n",
    "    ]"
   ]
  },
  {
   "cell_type": "code",
   "execution_count": 500,
   "id": "8e2d8d0d",
   "metadata": {},
   "outputs": [],
   "source": [
    "applier = PandasLFApplier(lfs=lfs)"
   ]
  },
  {
   "cell_type": "code",
   "execution_count": 501,
   "id": "d4761a74",
   "metadata": {},
   "outputs": [
    {
     "name": "stderr",
     "output_type": "stream",
     "text": [
      "100%|██████████| 70690/70690 [00:02<00:00, 33885.94it/s]\n",
      "100%|██████████| 5333/5333 [00:00<00:00, 39404.75it/s]\n"
     ]
    }
   ],
   "source": [
    "L_train = applier.apply(df=df_train)\n",
    "L_test = applier.apply(df=df_test)"
   ]
  },
  {
   "cell_type": "code",
   "execution_count": 502,
   "id": "380ec15a",
   "metadata": {},
   "outputs": [
    {
     "data": {
      "text/html": [
       "<div>\n",
       "<style scoped>\n",
       "    .dataframe tbody tr th:only-of-type {\n",
       "        vertical-align: middle;\n",
       "    }\n",
       "\n",
       "    .dataframe tbody tr th {\n",
       "        vertical-align: top;\n",
       "    }\n",
       "\n",
       "    .dataframe thead th {\n",
       "        text-align: right;\n",
       "    }\n",
       "</style>\n",
       "<table border=\"1\" class=\"dataframe\">\n",
       "  <thead>\n",
       "    <tr style=\"text-align: right;\">\n",
       "      <th></th>\n",
       "      <th>j</th>\n",
       "      <th>Polarity</th>\n",
       "      <th>Coverage</th>\n",
       "      <th>Overlaps</th>\n",
       "      <th>Conflicts</th>\n",
       "    </tr>\n",
       "  </thead>\n",
       "  <tbody>\n",
       "    <tr>\n",
       "      <th>intersection</th>\n",
       "      <td>0</td>\n",
       "      <td>[0]</td>\n",
       "      <td>0.095247</td>\n",
       "      <td>0.090819</td>\n",
       "      <td>0.046188</td>\n",
       "    </tr>\n",
       "    <tr>\n",
       "      <th>zoom</th>\n",
       "      <td>1</td>\n",
       "      <td>[0, 1]</td>\n",
       "      <td>0.765950</td>\n",
       "      <td>0.548154</td>\n",
       "      <td>0.369967</td>\n",
       "    </tr>\n",
       "    <tr>\n",
       "      <th>tags</th>\n",
       "      <td>2</td>\n",
       "      <td>[1]</td>\n",
       "      <td>0.001019</td>\n",
       "      <td>0.001019</td>\n",
       "      <td>0.000806</td>\n",
       "    </tr>\n",
       "    <tr>\n",
       "      <th>description</th>\n",
       "      <td>3</td>\n",
       "      <td>[1]</td>\n",
       "      <td>0.000085</td>\n",
       "      <td>0.000085</td>\n",
       "      <td>0.000071</td>\n",
       "    </tr>\n",
       "    <tr>\n",
       "      <th>severity</th>\n",
       "      <td>4</td>\n",
       "      <td>[1]</td>\n",
       "      <td>0.018687</td>\n",
       "      <td>0.017838</td>\n",
       "      <td>0.014500</td>\n",
       "    </tr>\n",
       "    <tr>\n",
       "      <th>clustered</th>\n",
       "      <td>5</td>\n",
       "      <td>[1]</td>\n",
       "      <td>0.535847</td>\n",
       "      <td>0.453855</td>\n",
       "      <td>0.382246</td>\n",
       "    </tr>\n",
       "    <tr>\n",
       "      <th>distance</th>\n",
       "      <td>6</td>\n",
       "      <td>[0]</td>\n",
       "      <td>0.314076</td>\n",
       "      <td>0.286957</td>\n",
       "      <td>0.196902</td>\n",
       "    </tr>\n",
       "  </tbody>\n",
       "</table>\n",
       "</div>"
      ],
      "text/plain": [
       "              j Polarity  Coverage  Overlaps  Conflicts\n",
       "intersection  0      [0]  0.095247  0.090819   0.046188\n",
       "zoom          1   [0, 1]  0.765950  0.548154   0.369967\n",
       "tags          2      [1]  0.001019  0.001019   0.000806\n",
       "description   3      [1]  0.000085  0.000085   0.000071\n",
       "severity      4      [1]  0.018687  0.017838   0.014500\n",
       "clustered     5      [1]  0.535847  0.453855   0.382246\n",
       "distance      6      [0]  0.314076  0.286957   0.196902"
      ]
     },
     "execution_count": 502,
     "metadata": {},
     "output_type": "execute_result"
    }
   ],
   "source": [
    "LFAnalysis(L=L_train, lfs=lfs).lf_summary()"
   ]
  },
  {
   "cell_type": "code",
   "execution_count": 503,
   "id": "0accfd74",
   "metadata": {},
   "outputs": [],
   "source": [
    "majority_model = MajorityLabelVoter()\n",
    "preds_train = majority_model.predict(L=L_train)"
   ]
  },
  {
   "cell_type": "code",
   "execution_count": 504,
   "id": "1891e4aa",
   "metadata": {},
   "outputs": [
    {
     "name": "stderr",
     "output_type": "stream",
     "text": [
      "INFO:root:Computing O...\n",
      "INFO:root:Estimating \\mu...\n",
      "  0%|          | 0/500 [00:00<?, ?epoch/s]INFO:root:[0 epochs]: TRAIN:[loss=0.492]\n",
      "INFO:root:[100 epochs]: TRAIN:[loss=0.000]\n",
      "INFO:root:[200 epochs]: TRAIN:[loss=0.000]\n",
      "INFO:root:[300 epochs]: TRAIN:[loss=0.000]\n",
      " 62%|██████▏   | 310/500 [00:00<00:00, 3098.70epoch/s]INFO:root:[400 epochs]: TRAIN:[loss=0.000]\n",
      "100%|██████████| 500/500 [00:00<00:00, 3254.85epoch/s]\n",
      "INFO:root:Finished Training\n"
     ]
    }
   ],
   "source": [
    "label_model = LabelModel(cardinality=2, verbose=True)\n",
    "label_model.fit(L_train=L_train, n_epochs=500, log_freq=100, seed=123)"
   ]
  },
  {
   "cell_type": "code",
   "execution_count": 505,
   "id": "564cc5a4",
   "metadata": {},
   "outputs": [
    {
     "name": "stdout",
     "output_type": "stream",
     "text": [
      "Majority Vote Accuracy:   51.6%\n",
      "Label Model Accuracy:     42.1%\n"
     ]
    }
   ],
   "source": [
    "majority_acc = majority_model.score(L=L_test, Y=Y_test, tie_break_policy=\"random\")[\n",
    "    \"accuracy\"\n",
    "]\n",
    "print(f\"{'Majority Vote Accuracy:':<25} {majority_acc * 100:.1f}%\")\n",
    "\n",
    "label_model_acc = label_model.score(L=L_test, Y=Y_test, tie_break_policy=\"random\")[\n",
    "    \"accuracy\"\n",
    "]\n",
    "print(f\"{'Label Model Accuracy:':<25} {label_model_acc * 100:.1f}%\")"
   ]
  }
 ],
 "metadata": {
  "kernelspec": {
   "display_name": "Python 3",
   "language": "python",
   "name": "python3"
  },
  "language_info": {
   "codemirror_mode": {
    "name": "ipython",
    "version": 3
   },
   "file_extension": ".py",
   "mimetype": "text/x-python",
   "name": "python",
   "nbconvert_exporter": "python",
   "pygments_lexer": "ipython3",
   "version": "3.6.13"
  },
  "vscode": {
   "interpreter": {
    "hash": "2d39f8da0d54976f1a341f37a2d085a085875efad184e6c8ed3d783ca1dd58ca"
   }
  }
 },
 "nbformat": 4,
 "nbformat_minor": 5
}
